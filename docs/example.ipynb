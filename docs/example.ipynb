{
 "cells": [
  {
   "cell_type": "markdown",
   "metadata": {},
   "source": [
    "# Example usage\n",
    "\n",
    "To use `dcdcpy` in a project, first add your environment variables to an `.env` file."
   ]
  },
  {
   "cell_type": "code",
   "execution_count": 1,
   "metadata": {},
   "outputs": [],
   "source": [
    "%load_ext autoreload\n",
    "%autoreload 2"
   ]
  },
  {
   "cell_type": "code",
   "execution_count": 2,
   "metadata": {},
   "outputs": [
    {
     "data": {
      "text/plain": [
       "True"
      ]
     },
     "execution_count": 2,
     "metadata": {},
     "output_type": "execute_result"
    }
   ],
   "source": [
    "from dotenv import load_dotenv\n",
    "load_dotenv()"
   ]
  },
  {
   "cell_type": "code",
   "execution_count": 3,
   "metadata": {},
   "outputs": [
    {
     "data": {
      "text/html": [
       "<div>\n",
       "<style scoped>\n",
       "    .dataframe tbody tr th:only-of-type {\n",
       "        vertical-align: middle;\n",
       "    }\n",
       "\n",
       "    .dataframe tbody tr th {\n",
       "        vertical-align: top;\n",
       "    }\n",
       "\n",
       "    .dataframe thead th {\n",
       "        text-align: right;\n",
       "    }\n",
       "</style>\n",
       "<table border=\"1\" class=\"dataframe\">\n",
       "  <thead>\n",
       "    <tr style=\"text-align: right;\">\n",
       "      <th></th>\n",
       "      <th>assessment_id</th>\n",
       "      <th>title</th>\n",
       "      <th>slug</th>\n",
       "      <th>technology</th>\n",
       "      <th>id</th>\n",
       "    </tr>\n",
       "  </thead>\n",
       "  <tbody>\n",
       "    <tr>\n",
       "      <th>0</th>\n",
       "      <td>1874</td>\n",
       "      <td>Understanding and Interpreting Data</td>\n",
       "      <td>understanding-and-interpreting-data</td>\n",
       "      <td>Theory</td>\n",
       "      <td>1874</td>\n",
       "    </tr>\n",
       "    <tr>\n",
       "      <th>1</th>\n",
       "      <td>1688</td>\n",
       "      <td>Machine Learning Fundamentals in R</td>\n",
       "      <td>machine-learning-fundamentals-with-r</td>\n",
       "      <td>R</td>\n",
       "      <td>1688</td>\n",
       "    </tr>\n",
       "    <tr>\n",
       "      <th>2</th>\n",
       "      <td>1714</td>\n",
       "      <td>Machine Learning Fundamentals in Python</td>\n",
       "      <td>machine-learning-fundamentals-with-python</td>\n",
       "      <td>Python</td>\n",
       "      <td>1714</td>\n",
       "    </tr>\n",
       "    <tr>\n",
       "      <th>3</th>\n",
       "      <td>1735</td>\n",
       "      <td>Importing &amp; Cleaning Data with R</td>\n",
       "      <td>importing-cleaning-data-with-r</td>\n",
       "      <td>R</td>\n",
       "      <td>1735</td>\n",
       "    </tr>\n",
       "    <tr>\n",
       "      <th>4</th>\n",
       "      <td>1649</td>\n",
       "      <td>R Programming</td>\n",
       "      <td>r-programming</td>\n",
       "      <td>R</td>\n",
       "      <td>1649</td>\n",
       "    </tr>\n",
       "  </tbody>\n",
       "</table>\n",
       "</div>"
      ],
      "text/plain": [
       "   assessment_id                                    title  \\\n",
       "0           1874      Understanding and Interpreting Data   \n",
       "1           1688       Machine Learning Fundamentals in R   \n",
       "2           1714  Machine Learning Fundamentals in Python   \n",
       "3           1735         Importing & Cleaning Data with R   \n",
       "4           1649                            R Programming   \n",
       "\n",
       "                                        slug technology    id  \n",
       "0        understanding-and-interpreting-data     Theory  1874  \n",
       "1       machine-learning-fundamentals-with-r          R  1688  \n",
       "2  machine-learning-fundamentals-with-python     Python  1714  \n",
       "3             importing-cleaning-data-with-r          R  1735  \n",
       "4                              r-programming          R  1649  "
      ]
     },
     "execution_count": 3,
     "metadata": {},
     "output_type": "execute_result"
    }
   ],
   "source": [
    "from dcdcpy import DataConnector\n",
    "dc = DataConnector()\n",
    "dc.assessment_dim().head()"
   ]
  },
  {
   "cell_type": "code",
   "execution_count": 4,
   "metadata": {},
   "outputs": [
    {
     "data": {
      "text/markdown": [
       "\n",
       "### Assessment Dim\n",
       "\n",
       "#### Description\n",
       "\n",
       "The assessment dimension provides descriptive data about a specific  assessment.\n",
       "\n",
       "\n",
       "#### Columns\n",
       "\n",
       "assessment_id\n",
       "\n",
       "> The unique id of the assessment id.\n",
       "\n",
       "title\n",
       "\n",
       "> The title of the assessment.\n",
       "\n",
       "slug\n",
       "\n",
       "> The slug of The assessment.\n",
       "\n",
       "technology\n",
       "\n",
       "> The assessment technology (e.g., Python, R, SQL)\n",
       "\n",
       "\n",
       "id\n",
       "\n",
       "> [DEPRECATED] Use assessment_id instead.\n"
      ],
      "text/plain": [
       "<IPython.core.display.Markdown object>"
      ]
     },
     "metadata": {},
     "output_type": "display_data"
    },
    {
     "data": {
      "text/plain": [
       "<dcdcpy.dcdcpy.ReadTable at 0x121cbae80>"
      ]
     },
     "execution_count": 4,
     "metadata": {},
     "output_type": "execute_result"
    }
   ],
   "source": [
    "dc.assessment_dim"
   ]
  },
  {
   "cell_type": "code",
   "execution_count": 5,
   "metadata": {},
   "outputs": [
    {
     "name": "stdout",
     "output_type": "stream",
     "text": [
      "0.1.0\n"
     ]
    }
   ],
   "source": [
    "import dcdcpy\n",
    "print(dcdcpy.__version__)"
   ]
  }
 ],
 "metadata": {
  "kernelspec": {
   "display_name": "Python 3",
   "language": "python",
   "name": "python3"
  },
  "language_info": {
   "codemirror_mode": {
    "name": "ipython",
    "version": 3
   },
   "file_extension": ".py",
   "mimetype": "text/x-python",
   "name": "python",
   "nbconvert_exporter": "python",
   "pygments_lexer": "ipython3",
   "version": "3.9.8"
  }
 },
 "nbformat": 4,
 "nbformat_minor": 4
}
